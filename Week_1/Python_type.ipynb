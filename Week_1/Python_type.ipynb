{
 "cells": [
  {
   "cell_type": "markdown",
   "id": "0761b4fa",
   "metadata": {},
   "source": [
    "## Python type of data"
   ]
  },
  {
   "cell_type": "code",
   "execution_count": 3,
   "id": "ac13ef1c",
   "metadata": {},
   "outputs": [],
   "source": [
    "x = 'zebra'"
   ]
  },
  {
   "cell_type": "code",
   "execution_count": 4,
   "id": "2737e89b",
   "metadata": {},
   "outputs": [
    {
     "name": "stdout",
     "output_type": "stream",
     "text": [
      "<class 'str'>\n"
     ]
    }
   ],
   "source": [
    "print(type(x))"
   ]
  },
  {
   "cell_type": "code",
   "execution_count": null,
   "id": "54eb63a2",
   "metadata": {},
   "outputs": [],
   "source": []
  }
 ],
 "metadata": {
  "kernelspec": {
   "display_name": "Python 3 (ipykernel)",
   "language": "python",
   "name": "python3"
  },
  "language_info": {
   "codemirror_mode": {
    "name": "ipython",
    "version": 3
   },
   "file_extension": ".py",
   "mimetype": "text/x-python",
   "name": "python",
   "nbconvert_exporter": "python",
   "pygments_lexer": "ipython3",
   "version": "3.9.7"
  }
 },
 "nbformat": 4,
 "nbformat_minor": 5
}
