{
 "cells": [
  {
   "cell_type": "code",
   "execution_count": 1,
   "id": "8b8f86fc",
   "metadata": {},
   "outputs": [],
   "source": [
    "def solution(number):\n",
    "    num=0\n",
    "    for i in range(1,number):\n",
    "        if i%3==0 or i%5==0:\n",
    "            num+=i\n",
    "    return num\n",
    "    "
   ]
  },
  {
   "cell_type": "code",
   "execution_count": 2,
   "id": "dd3a5ed3",
   "metadata": {},
   "outputs": [
    {
     "name": "stdout",
     "output_type": "stream",
     "text": [
      "23\n"
     ]
    }
   ],
   "source": [
    "print(solution(10))"
   ]
  },
  {
   "cell_type": "code",
   "execution_count": 3,
   "id": "d56e5e15",
   "metadata": {},
   "outputs": [],
   "source": [
    "def solution(number):\n",
    "    return sum(x for x in range(number) if x % 3 == 0 or x % 5 == 0)"
   ]
  },
  {
   "cell_type": "code",
   "execution_count": null,
   "id": "1bafd638",
   "metadata": {},
   "outputs": [],
   "source": []
  }
 ],
 "metadata": {
  "kernelspec": {
   "display_name": "Python 3 (ipykernel)",
   "language": "python",
   "name": "python3"
  },
  "language_info": {
   "codemirror_mode": {
    "name": "ipython",
    "version": 3
   },
   "file_extension": ".py",
   "mimetype": "text/x-python",
   "name": "python",
   "nbconvert_exporter": "python",
   "pygments_lexer": "ipython3",
   "version": "3.9.7"
  }
 },
 "nbformat": 4,
 "nbformat_minor": 5
}
